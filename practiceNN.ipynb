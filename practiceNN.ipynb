{
 "cells": [
  {
   "cell_type": "code",
   "execution_count": 20,
   "metadata": {},
   "outputs": [],
   "source": [
    "import numpy as np\n",
    "\n",
    "class Learner(object):\n",
    "    \n",
    "    def __init__(self, r = 0.01, iter = 100):\n",
    "        self.rate = r\n",
    "        self.num_iter = iter\n",
    "    \n",
    "    def dot_product(self,X):\n",
    "        return (np.dot(X,self.weights[1:]) + self.weights[0])\n",
    "    \n",
    "    def predict(self,X):\n",
    "        return np.where(self.dot_product(X) >= 0.0, 1, 0)\n",
    "    \n",
    "    def fit(self,X,Y):\n",
    "        \n",
    "        self.weights = np.zeros(1+X.shape[1])\n",
    "        self.error_list = []\n",
    "        \n",
    "        for _ in range (self.num_iter):\n",
    "            \n",
    "            errors = 0\n",
    "            \n",
    "            for xi, target in zip(X,Y):\n",
    "                \n",
    "                update = self.rate * (target - self.predict(xi))\n",
    "                \n",
    "                self.weights[1:] += update * xi\n",
    "                self.weights[0] += update\n",
    "                \n",
    "                errors += int(update != 0.0)\n",
    "            self.error_list.append(errors)\n",
    "            \n",
    "        return self"
   ]
  },
  {
   "cell_type": "code",
   "execution_count": 22,
   "metadata": {},
   "outputs": [
    {
     "name": "stdout",
     "output_type": "stream",
     "text": [
      "Predicting the output [1,1,1] = 1\n"
     ]
    }
   ],
   "source": [
    "X = np.array([[0, 0, 0], [0, 0, 1], [0, 1, 0], [0, 1, 1], [1, 0, 0], [1, 0, 1], [1, 1, 0]])\n",
    "\n",
    "Y = np.array([0, 1, 1, 1, 1, 1, 1])\n",
    "\n",
    "L = Learner()\n",
    "L.fit(X,Y)\n",
    "\n",
    "print(\"Predicting the output [1,1,1] = {}\".format(L.predict([1,1,1])))"
   ]
  },
  {
   "cell_type": "code",
   "execution_count": null,
   "metadata": {},
   "outputs": [],
   "source": []
  },
  {
   "cell_type": "code",
   "execution_count": null,
   "metadata": {},
   "outputs": [],
   "source": []
  },
  {
   "cell_type": "code",
   "execution_count": null,
   "metadata": {},
   "outputs": [],
   "source": []
  },
  {
   "cell_type": "code",
   "execution_count": null,
   "metadata": {},
   "outputs": [],
   "source": []
  }
 ],
 "metadata": {
  "kernelspec": {
   "display_name": "Python 3",
   "language": "python",
   "name": "python3"
  },
  "language_info": {
   "codemirror_mode": {
    "name": "ipython",
    "version": 3
   },
   "file_extension": ".py",
   "mimetype": "text/x-python",
   "name": "python",
   "nbconvert_exporter": "python",
   "pygments_lexer": "ipython3",
   "version": "3.7.0"
  }
 },
 "nbformat": 4,
 "nbformat_minor": 2
}
